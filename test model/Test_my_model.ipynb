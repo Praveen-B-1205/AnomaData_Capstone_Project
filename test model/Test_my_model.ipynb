{
 "cells": [
  {
   "cell_type": "code",
   "execution_count": 1,
   "id": "7d561bc8-1557-4404-b848-07031b81a4d3",
   "metadata": {},
   "outputs": [
    {
     "name": "stdout",
     "output_type": "stream",
     "text": [
      "✅ Model loaded successfully!\n"
     ]
    }
   ],
   "source": [
    "import pickle\n",
    "\n",
    "# Load the trained model\n",
    "try:\n",
    "    with open(\"model.pkl\", \"rb\") as f:\n",
    "        model = pickle.load(f)\n",
    "    print(\"✅ Model loaded successfully!\")\n",
    "except FileNotFoundError:\n",
    "    print(\"❌ Model file not found. Please train and save the model first.\")\n"
   ]
  },
  {
   "cell_type": "code",
   "execution_count": 2,
   "id": "4e25a8a9-d9af-4437-b891-afb7d425309a",
   "metadata": {},
   "outputs": [
    {
     "data": {
      "text/html": [
       "<div>\n",
       "<style scoped>\n",
       "    .dataframe tbody tr th:only-of-type {\n",
       "        vertical-align: middle;\n",
       "    }\n",
       "\n",
       "    .dataframe tbody tr th {\n",
       "        vertical-align: top;\n",
       "    }\n",
       "\n",
       "    .dataframe thead th {\n",
       "        text-align: right;\n",
       "    }\n",
       "</style>\n",
       "<table border=\"1\" class=\"dataframe\">\n",
       "  <thead>\n",
       "    <tr style=\"text-align: right;\">\n",
       "      <th></th>\n",
       "      <th>y</th>\n",
       "      <th>x1</th>\n",
       "      <th>x2</th>\n",
       "      <th>x3</th>\n",
       "      <th>x4</th>\n",
       "      <th>x5</th>\n",
       "      <th>x6</th>\n",
       "      <th>x7</th>\n",
       "      <th>x8</th>\n",
       "      <th>x9</th>\n",
       "      <th>...</th>\n",
       "      <th>x51</th>\n",
       "      <th>x52</th>\n",
       "      <th>x54</th>\n",
       "      <th>x55</th>\n",
       "      <th>x56</th>\n",
       "      <th>x57</th>\n",
       "      <th>x58</th>\n",
       "      <th>x59</th>\n",
       "      <th>x60</th>\n",
       "      <th>y.1</th>\n",
       "    </tr>\n",
       "  </thead>\n",
       "  <tbody>\n",
       "    <tr>\n",
       "      <th>0</th>\n",
       "      <td>0</td>\n",
       "      <td>0.376665</td>\n",
       "      <td>-4.596435</td>\n",
       "      <td>-4.095756</td>\n",
       "      <td>13.497687</td>\n",
       "      <td>-0.118830</td>\n",
       "      <td>-20.669883</td>\n",
       "      <td>0.000732</td>\n",
       "      <td>-0.061114</td>\n",
       "      <td>-0.059966</td>\n",
       "      <td>...</td>\n",
       "      <td>29.984624</td>\n",
       "      <td>10.091721</td>\n",
       "      <td>-4.936434</td>\n",
       "      <td>-24.590146</td>\n",
       "      <td>18.515436</td>\n",
       "      <td>3.473400</td>\n",
       "      <td>0.033444</td>\n",
       "      <td>0.953219</td>\n",
       "      <td>0.006076</td>\n",
       "      <td>0</td>\n",
       "    </tr>\n",
       "    <tr>\n",
       "      <th>1</th>\n",
       "      <td>0</td>\n",
       "      <td>0.475720</td>\n",
       "      <td>-4.542502</td>\n",
       "      <td>-4.018359</td>\n",
       "      <td>16.230659</td>\n",
       "      <td>-0.128733</td>\n",
       "      <td>-18.758079</td>\n",
       "      <td>0.000732</td>\n",
       "      <td>-0.061114</td>\n",
       "      <td>-0.059966</td>\n",
       "      <td>...</td>\n",
       "      <td>29.984624</td>\n",
       "      <td>10.095871</td>\n",
       "      <td>-4.937179</td>\n",
       "      <td>-32.413266</td>\n",
       "      <td>22.760065</td>\n",
       "      <td>2.682933</td>\n",
       "      <td>0.033536</td>\n",
       "      <td>1.090502</td>\n",
       "      <td>0.006083</td>\n",
       "      <td>0</td>\n",
       "    </tr>\n",
       "    <tr>\n",
       "      <th>2</th>\n",
       "      <td>0</td>\n",
       "      <td>0.363848</td>\n",
       "      <td>-4.681394</td>\n",
       "      <td>-4.353147</td>\n",
       "      <td>14.127997</td>\n",
       "      <td>-0.138636</td>\n",
       "      <td>-17.836632</td>\n",
       "      <td>0.010803</td>\n",
       "      <td>-0.061114</td>\n",
       "      <td>-0.030057</td>\n",
       "      <td>...</td>\n",
       "      <td>29.984624</td>\n",
       "      <td>10.100265</td>\n",
       "      <td>-4.937924</td>\n",
       "      <td>-34.183774</td>\n",
       "      <td>27.004663</td>\n",
       "      <td>3.537487</td>\n",
       "      <td>0.033629</td>\n",
       "      <td>1.840540</td>\n",
       "      <td>0.006090</td>\n",
       "      <td>0</td>\n",
       "    </tr>\n",
       "    <tr>\n",
       "      <th>3</th>\n",
       "      <td>0</td>\n",
       "      <td>0.301590</td>\n",
       "      <td>-4.758934</td>\n",
       "      <td>-4.023612</td>\n",
       "      <td>13.161566</td>\n",
       "      <td>-0.148142</td>\n",
       "      <td>-18.517601</td>\n",
       "      <td>0.002075</td>\n",
       "      <td>-0.061114</td>\n",
       "      <td>-0.019986</td>\n",
       "      <td>...</td>\n",
       "      <td>29.984624</td>\n",
       "      <td>10.104660</td>\n",
       "      <td>-4.938669</td>\n",
       "      <td>-35.954281</td>\n",
       "      <td>21.672449</td>\n",
       "      <td>3.986095</td>\n",
       "      <td>0.033721</td>\n",
       "      <td>2.554880</td>\n",
       "      <td>0.006097</td>\n",
       "      <td>0</td>\n",
       "    </tr>\n",
       "    <tr>\n",
       "      <th>4</th>\n",
       "      <td>0</td>\n",
       "      <td>0.265578</td>\n",
       "      <td>-4.749928</td>\n",
       "      <td>-4.333150</td>\n",
       "      <td>15.267340</td>\n",
       "      <td>-0.155314</td>\n",
       "      <td>-17.505913</td>\n",
       "      <td>0.000732</td>\n",
       "      <td>-0.061114</td>\n",
       "      <td>-0.030057</td>\n",
       "      <td>...</td>\n",
       "      <td>29.984624</td>\n",
       "      <td>10.109054</td>\n",
       "      <td>-4.939414</td>\n",
       "      <td>-37.724789</td>\n",
       "      <td>21.907251</td>\n",
       "      <td>3.601573</td>\n",
       "      <td>0.033777</td>\n",
       "      <td>1.410494</td>\n",
       "      <td>0.006105</td>\n",
       "      <td>0</td>\n",
       "    </tr>\n",
       "  </tbody>\n",
       "</table>\n",
       "<p>5 rows × 61 columns</p>\n",
       "</div>"
      ],
      "text/plain": [
       "   y        x1        x2        x3         x4        x5         x6        x7  \\\n",
       "0  0  0.376665 -4.596435 -4.095756  13.497687 -0.118830 -20.669883  0.000732   \n",
       "1  0  0.475720 -4.542502 -4.018359  16.230659 -0.128733 -18.758079  0.000732   \n",
       "2  0  0.363848 -4.681394 -4.353147  14.127997 -0.138636 -17.836632  0.010803   \n",
       "3  0  0.301590 -4.758934 -4.023612  13.161566 -0.148142 -18.517601  0.002075   \n",
       "4  0  0.265578 -4.749928 -4.333150  15.267340 -0.155314 -17.505913  0.000732   \n",
       "\n",
       "         x8        x9  ...        x51        x52       x54        x55  \\\n",
       "0 -0.061114 -0.059966  ...  29.984624  10.091721 -4.936434 -24.590146   \n",
       "1 -0.061114 -0.059966  ...  29.984624  10.095871 -4.937179 -32.413266   \n",
       "2 -0.061114 -0.030057  ...  29.984624  10.100265 -4.937924 -34.183774   \n",
       "3 -0.061114 -0.019986  ...  29.984624  10.104660 -4.938669 -35.954281   \n",
       "4 -0.061114 -0.030057  ...  29.984624  10.109054 -4.939414 -37.724789   \n",
       "\n",
       "         x56       x57       x58       x59       x60  y.1  \n",
       "0  18.515436  3.473400  0.033444  0.953219  0.006076    0  \n",
       "1  22.760065  2.682933  0.033536  1.090502  0.006083    0  \n",
       "2  27.004663  3.537487  0.033629  1.840540  0.006090    0  \n",
       "3  21.672449  3.986095  0.033721  2.554880  0.006097    0  \n",
       "4  21.907251  3.601573  0.033777  1.410494  0.006105    0  \n",
       "\n",
       "[5 rows x 61 columns]"
      ]
     },
     "execution_count": 2,
     "metadata": {},
     "output_type": "execute_result"
    }
   ],
   "source": [
    "import pandas as pd\n",
    "import numpy as np\n",
    "\n",
    "# Load sample dataset\n",
    "file_path = r\"D:\\Study Materials\\Project\\AnomaData.xlsx\"\n",
    "df = pd.read_excel(file_path)\n",
    "\n",
    "# Drop non-feature columns (Modify based on your dataset)\n",
    "if 'time' in df.columns:\n",
    "    df = df.drop(columns=['time'])\n",
    "\n",
    "# Display first few rows\n",
    "df.head()\n"
   ]
  },
  {
   "cell_type": "code",
   "execution_count": 8,
   "id": "2c44defa-9aed-4e08-941d-66e5d555f67b",
   "metadata": {},
   "outputs": [
    {
     "name": "stdout",
     "output_type": "stream",
     "text": [
      "Model was trained with 60 features.\n"
     ]
    }
   ],
   "source": [
    "print(f\"Model was trained with {model.n_features_in_} features.\")\n"
   ]
  },
  {
   "cell_type": "code",
   "execution_count": 9,
   "id": "1cdab435-ff36-499c-ae30-30c3027b599c",
   "metadata": {},
   "outputs": [
    {
     "name": "stdout",
     "output_type": "stream",
     "text": [
      "Sample has 60 features.\n"
     ]
    }
   ],
   "source": [
    "print(f\"Sample has {sample.shape[1]} features.\")\n"
   ]
  },
  {
   "cell_type": "code",
   "execution_count": 10,
   "id": "06ba8116-97cc-4a15-b1d5-172cb7e49889",
   "metadata": {},
   "outputs": [
    {
     "name": "stdout",
     "output_type": "stream",
     "text": [
      "Expected features: ['x1' 'x2' 'x3' 'x4' 'x5' 'x6' 'x7' 'x8' 'x9' 'x10' 'x11' 'x12' 'x13'\n",
      " 'x14' 'x15' 'x16' 'x17' 'x18' 'x19' 'x20' 'x21' 'x22' 'x23' 'x24' 'x25'\n",
      " 'x26' 'x27' 'x28' 'x29' 'x30' 'x31' 'x32' 'x33' 'x34' 'x35' 'x36' 'x37'\n",
      " 'x38' 'x39' 'x40' 'x41' 'x42' 'x43' 'x44' 'x45' 'x46' 'x47' 'x48' 'x49'\n",
      " 'x50' 'x51' 'x52' 'x54' 'x55' 'x56' 'x57' 'x58' 'x59' 'x60' 'y.1']\n",
      "Sample features: Index(['y', 'x1', 'x2', 'x3', 'x4', 'x5', 'x6', 'x7', 'x8', 'x9', 'x10', 'x11',\n",
      "       'x12', 'x13', 'x14', 'x15', 'x16', 'x17', 'x18', 'x19', 'x20', 'x21',\n",
      "       'x22', 'x23', 'x24', 'x25', 'x26', 'x27', 'x28', 'x29', 'x30', 'x31',\n",
      "       'x32', 'x33', 'x34', 'x35', 'x36', 'x37', 'x38', 'x39', 'x40', 'x41',\n",
      "       'x42', 'x43', 'x44', 'x45', 'x46', 'x47', 'x48', 'x49', 'x50', 'x51',\n",
      "       'x52', 'x54', 'x55', 'x56', 'x57', 'x58', 'x59', 'x60'],\n",
      "      dtype='object')\n"
     ]
    }
   ],
   "source": [
    "print(\"Expected features:\", model.feature_names_in_)\n",
    "print(\"Sample features:\", sample.columns)\n"
   ]
  },
  {
   "cell_type": "code",
   "execution_count": 12,
   "id": "bc111f6d-e279-4c87-91b1-ada8169d5dbb",
   "metadata": {},
   "outputs": [
    {
     "name": "stdout",
     "output_type": "stream",
     "text": [
      "🔍 Prediction Result: Normal\n"
     ]
    }
   ],
   "source": [
    "# Select a random sample from the dataset\n",
    "sample = df.sample(1)\n",
    "\n",
    "# Ensure the sample has the correct number of features\n",
    "# Keep only the features the model was trained on\n",
    "sample = sample[model.feature_names_in_]  \n",
    "\n",
    "# Make prediction\n",
    "prediction = model.predict(sample)\n",
    "result = \"Anomaly\" if prediction[0] == -1 else \"Normal\"\n",
    "\n",
    "print(f\"🔍 Prediction Result: {result}\")\n"
   ]
  },
  {
   "cell_type": "code",
   "execution_count": 13,
   "id": "13116b6c-6b6d-4e67-a281-a392a4953362",
   "metadata": {},
   "outputs": [
    {
     "name": "stdout",
     "output_type": "stream",
     "text": [
      "🔍 Prediction Result: Normal\n"
     ]
    }
   ],
   "source": [
    "import pandas as pd\n",
    "import pickle\n",
    "import numpy as np\n",
    "\n",
    "# Load the trained model\n",
    "with open(\"model.pkl\", \"rb\") as f:\n",
    "    model = pickle.load(f)\n",
    "\n",
    "# Load the dataset (use the same dataset used for training)\n",
    "file_path = r\"D:\\Study Materials\\Project\\AnomaData.xlsx\"\n",
    "df = pd.read_excel(file_path)\n",
    "\n",
    "# Drop unnecessary columns (make sure it matches training preprocessing)\n",
    "df = df.drop(columns=['time'], errors='ignore')  # Ignore if 'time' column doesn't exist\n",
    "\n",
    "# Select a random sample from the dataset\n",
    "sample = df.sample(1)\n",
    "\n",
    "# Ensure the sample has the correct number of features\n",
    "sample = sample[model.feature_names_in_]  # Keeps only the features used during training\n",
    "\n",
    "# Make prediction\n",
    "prediction = model.predict(sample)\n",
    "result = \"Anomaly\" if prediction[0] == -1 else \"Normal\"\n",
    "\n",
    "print(f\"🔍 Prediction Result: {result}\")\n"
   ]
  },
  {
   "cell_type": "code",
   "execution_count": null,
   "id": "53f0a4ed-36d5-4c8e-bae1-6acd34d1eeb0",
   "metadata": {},
   "outputs": [],
   "source": []
  }
 ],
 "metadata": {
  "kernelspec": {
   "display_name": "Python 3 (ipykernel)",
   "language": "python",
   "name": "python3"
  },
  "language_info": {
   "codemirror_mode": {
    "name": "ipython",
    "version": 3
   },
   "file_extension": ".py",
   "mimetype": "text/x-python",
   "name": "python",
   "nbconvert_exporter": "python",
   "pygments_lexer": "ipython3",
   "version": "3.12.7"
  }
 },
 "nbformat": 4,
 "nbformat_minor": 5
}
