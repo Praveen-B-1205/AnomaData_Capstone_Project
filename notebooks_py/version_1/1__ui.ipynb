{
 "cells": [
  {
   "cell_type": "code",
   "execution_count": 1,
   "id": "82ca72b2-11da-414e-afa7-6c118cb84bf5",
   "metadata": {},
   "outputs": [],
   "source": [
    "import streamlit as st\n",
    "import numpy as np\n",
    "import joblib"
   ]
  },
  {
   "cell_type": "code",
   "execution_count": 2,
   "id": "4b5e70a2-1804-4f50-8c31-c174805128b2",
   "metadata": {},
   "outputs": [
    {
     "name": "stderr",
     "output_type": "stream",
     "text": [
      "2025-03-15 23:24:45.577 \n",
      "  \u001b[33m\u001b[1mWarning:\u001b[0m to view this Streamlit app on a browser, run it with the following\n",
      "  command:\n",
      "\n",
      "    streamlit run C:\\ProgramData\\anaconda3\\Lib\\site-packages\\ipykernel_launcher.py [ARGUMENTS]\n",
      "2025-03-15 23:24:45.577 Session state does not function when running a script without `streamlit run`\n"
     ]
    }
   ],
   "source": [
    "# Load model\n",
    "model = joblib.load(\"models/model.pkl\")\n",
    "\n",
    "# Streamlit UI setup\n",
    "st.title(\"AnomaData: Anomaly Detection System\")\n",
    "st.write(\"Enter sensor values to detect anomalies in real-time.\")\n",
    "\n",
    "# Dynamic feature input fields\n",
    "num_features = 60  # Adjust based on dataset features\n",
    "input_data = []\n",
    "for i in range(num_features):\n",
    "    value = st.number_input(f\"Feature {i+1}\", value=0.0, step=0.01)\n",
    "    input_data.append(value)\n",
    "\n",
    "# Predict anomaly\n",
    "if st.button(\"Detect Anomaly\"):\n",
    "    features = np.array(input_data).reshape(1, -1)\n",
    "    prediction = model.predict(features)\n",
    "    result = \"🔴 Anomaly Detected!\" if prediction[0] == -1 else \"🟢 Normal Operation\"\n",
    "    st.subheader(f\"Prediction: {result}\")"
   ]
  },
  {
   "cell_type": "code",
   "execution_count": 3,
   "id": "39a82e15-f7a9-42b0-a3d8-35b3c8623850",
   "metadata": {},
   "outputs": [
    {
     "name": "stderr",
     "output_type": "stream",
     "text": [
      "[NbConvertApp] Converting notebook ui.ipynb to script\n",
      "[NbConvertApp] Writing 821 bytes to ui.py\n"
     ]
    }
   ],
   "source": [
    "!jupyter nbconvert --to script \"ui.ipynb\""
   ]
  },
  {
   "cell_type": "code",
   "execution_count": null,
   "id": "0ee8e53b-1f6e-4b85-bb0c-554b4fd01362",
   "metadata": {},
   "outputs": [],
   "source": []
  }
 ],
 "metadata": {
  "kernelspec": {
   "display_name": "Python 3 (ipykernel)",
   "language": "python",
   "name": "python3"
  },
  "language_info": {
   "codemirror_mode": {
    "name": "ipython",
    "version": 3
   },
   "file_extension": ".py",
   "mimetype": "text/x-python",
   "name": "python",
   "nbconvert_exporter": "python",
   "pygments_lexer": "ipython3",
   "version": "3.12.7"
  }
 },
 "nbformat": 4,
 "nbformat_minor": 5
}
