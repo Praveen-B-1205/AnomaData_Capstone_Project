{
 "cells": [
  {
   "cell_type": "code",
   "execution_count": 4,
   "id": "753d01d0-8d3a-4888-aaa5-5123dbd420ef",
   "metadata": {},
   "outputs": [],
   "source": [
    "import pandas as pd\n",
    "from sklearn.ensemble import IsolationForest\n",
    "from sklearn.model_selection import train_test_split\n",
    "from sklearn.metrics import classification_report\n",
    "from preprocess import preprocess_data\n",
    "import joblib\n",
    "import os"
   ]
  },
  {
   "cell_type": "code",
   "execution_count": 5,
   "id": "399ef777-ca05-47f0-aae6-11bf56354f55",
   "metadata": {},
   "outputs": [
    {
     "name": "stdout",
     "output_type": "stream",
     "text": [
      "              precision    recall  f1-score   support\n",
      "\n",
      "           0       1.00      0.95      0.97      3658\n",
      "           1       0.03      0.23      0.05        22\n",
      "\n",
      "    accuracy                           0.95      3680\n",
      "   macro avg       0.51      0.59      0.51      3680\n",
      "weighted avg       0.99      0.95      0.97      3680\n",
      "\n"
     ]
    }
   ],
   "source": [
    "def train_model():\n",
    "    \"\"\"Trains the Isolation Forest Model\"\"\"\n",
    "    df = preprocess_data()\n",
    "    X = df.drop(columns=[\"y\", \"time\"])  # Drop target & timestamp\n",
    "    y = df[\"y\"]\n",
    "\n",
    "    # Split Data\n",
    "    X_train, X_test, y_train, y_test = train_test_split(X, y, test_size=0.2, random_state=42)\n",
    "\n",
    "    # Train Model\n",
    "    model = IsolationForest(n_estimators=100, contamination=0.05, random_state=42)\n",
    "    model.fit(X_train)\n",
    "\n",
    "    # ✅ Ensure the 'models' directory exists before saving\n",
    "    os.makedirs(\"models\", exist_ok=True)\n",
    "\n",
    "    # Save Model\n",
    "    joblib.dump(model, \"models/model.pkl\")\n",
    "\n",
    "    # Predict & Evaluate\n",
    "    y_pred = model.predict(X_test)\n",
    "    y_pred = [1 if pred == -1 else 0 for pred in y_pred]\n",
    "\n",
    "    print(classification_report(y_test, y_pred))\n",
    "    return model\n",
    "\n",
    "if __name__ == \"__main__\":\n",
    "    model = train_model()\n"
   ]
  },
  {
   "cell_type": "code",
   "execution_count": 6,
   "id": "bdc4c1d9-e6b6-458a-9959-75c1c270f5f5",
   "metadata": {},
   "outputs": [
    {
     "name": "stderr",
     "output_type": "stream",
     "text": [
      "[NbConvertApp] Converting notebook model.ipynb to script\n",
      "[NbConvertApp] Writing 1008 bytes to model.py\n"
     ]
    }
   ],
   "source": [
    "!jupyter nbconvert --to script \"model.ipynb\""
   ]
  },
  {
   "cell_type": "code",
   "execution_count": null,
   "id": "a84668c2-45ad-428f-ad39-4ec9608ddcec",
   "metadata": {},
   "outputs": [],
   "source": []
  }
 ],
 "metadata": {
  "kernelspec": {
   "display_name": "Python 3 (ipykernel)",
   "language": "python",
   "name": "python3"
  },
  "language_info": {
   "codemirror_mode": {
    "name": "ipython",
    "version": 3
   },
   "file_extension": ".py",
   "mimetype": "text/x-python",
   "name": "python",
   "nbconvert_exporter": "python",
   "pygments_lexer": "ipython3",
   "version": "3.12.7"
  }
 },
 "nbformat": 4,
 "nbformat_minor": 5
}
