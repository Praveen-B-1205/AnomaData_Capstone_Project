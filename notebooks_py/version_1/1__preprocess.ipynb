{
 "cells": [
  {
   "cell_type": "code",
   "execution_count": 1,
   "id": "3c302312-5634-4096-9c21-6d50ff3144d2",
   "metadata": {},
   "outputs": [],
   "source": [
    "import pandas as pd\n",
    "from data_loader import load_data"
   ]
  },
  {
   "cell_type": "code",
   "execution_count": 2,
   "id": "d971b044-4a48-4b41-b04f-f3db8e3b730b",
   "metadata": {},
   "outputs": [
    {
     "name": "stdout",
     "output_type": "stream",
     "text": [
      "<class 'pandas.core.frame.DataFrame'>\n",
      "RangeIndex: 18398 entries, 0 to 18397\n",
      "Data columns (total 61 columns):\n",
      " #   Column  Non-Null Count  Dtype         \n",
      "---  ------  --------------  -----         \n",
      " 0   time    18398 non-null  datetime64[ns]\n",
      " 1   y       18398 non-null  int64         \n",
      " 2   x1      18398 non-null  float64       \n",
      " 3   x2      18398 non-null  float64       \n",
      " 4   x3      18398 non-null  float64       \n",
      " 5   x4      18398 non-null  float64       \n",
      " 6   x5      18398 non-null  float64       \n",
      " 7   x6      18398 non-null  float64       \n",
      " 8   x7      18398 non-null  float64       \n",
      " 9   x8      18398 non-null  float64       \n",
      " 10  x9      18398 non-null  float64       \n",
      " 11  x10     18398 non-null  float64       \n",
      " 12  x11     18398 non-null  float64       \n",
      " 13  x12     18398 non-null  float64       \n",
      " 14  x13     18398 non-null  float64       \n",
      " 15  x14     18398 non-null  float64       \n",
      " 16  x15     18398 non-null  float64       \n",
      " 17  x16     18398 non-null  float64       \n",
      " 18  x17     18398 non-null  float64       \n",
      " 19  x18     18398 non-null  float64       \n",
      " 20  x19     18398 non-null  float64       \n",
      " 21  x20     18398 non-null  float64       \n",
      " 22  x21     18398 non-null  float64       \n",
      " 23  x22     18398 non-null  float64       \n",
      " 24  x23     18398 non-null  float64       \n",
      " 25  x24     18398 non-null  float64       \n",
      " 26  x25     18398 non-null  float64       \n",
      " 27  x26     18398 non-null  float64       \n",
      " 28  x27     18398 non-null  float64       \n",
      " 29  x28     18398 non-null  int64         \n",
      " 30  x29     18398 non-null  float64       \n",
      " 31  x30     18398 non-null  float64       \n",
      " 32  x31     18398 non-null  float64       \n",
      " 33  x32     18398 non-null  float64       \n",
      " 34  x33     18398 non-null  float64       \n",
      " 35  x34     18398 non-null  float64       \n",
      " 36  x35     18398 non-null  float64       \n",
      " 37  x36     18398 non-null  float64       \n",
      " 38  x37     18398 non-null  float64       \n",
      " 39  x38     18398 non-null  float64       \n",
      " 40  x39     18398 non-null  float64       \n",
      " 41  x40     18398 non-null  float64       \n",
      " 42  x41     18398 non-null  float64       \n",
      " 43  x42     18398 non-null  float64       \n",
      " 44  x43     18398 non-null  float64       \n",
      " 45  x44     18398 non-null  float64       \n",
      " 46  x45     18398 non-null  float64       \n",
      " 47  x46     18398 non-null  float64       \n",
      " 48  x47     18398 non-null  float64       \n",
      " 49  x48     18398 non-null  float64       \n",
      " 50  x49     18398 non-null  float64       \n",
      " 51  x50     18398 non-null  float64       \n",
      " 52  x51     18398 non-null  float64       \n",
      " 53  x52     18398 non-null  float64       \n",
      " 54  x54     18398 non-null  float64       \n",
      " 55  x55     18398 non-null  float64       \n",
      " 56  x56     18398 non-null  float64       \n",
      " 57  x57     18398 non-null  float64       \n",
      " 58  x58     18398 non-null  float64       \n",
      " 59  x59     18398 non-null  float64       \n",
      " 60  x60     18398 non-null  float64       \n",
      "dtypes: datetime64[ns](1), float64(58), int64(2)\n",
      "memory usage: 8.6 MB\n",
      "None\n"
     ]
    }
   ],
   "source": [
    "def preprocess_data():\n",
    "    \"\"\"Cleans and preprocesses the dataset\"\"\"\n",
    "    df = load_data()\n",
    "\n",
    "    # Drop duplicate target column if exists\n",
    "    if 'y.1' in df.columns:\n",
    "        df = df.drop(columns=['y.1'])\n",
    "\n",
    "    # Convert timestamp to datetime\n",
    "    df[\"time\"] = pd.to_datetime(df[\"time\"])\n",
    "\n",
    "    return df\n",
    "\n",
    "if __name__ == \"__main__\":\n",
    "    df = preprocess_data()\n",
    "    print(df.info())  # Test preprocessing"
   ]
  },
  {
   "cell_type": "code",
   "execution_count": 8,
   "id": "52ae636a-3f94-4b49-b1cd-136281aa2bcf",
   "metadata": {},
   "outputs": [
    {
     "name": "stderr",
     "output_type": "stream",
     "text": [
      "[NbConvertApp] Converting notebook preprocess.ipynb to script\n",
      "[NbConvertApp] Writing 614 bytes to preprocess.py\n"
     ]
    }
   ],
   "source": [
    "!jupyter nbconvert --to script \"preprocess.ipynb\""
   ]
  },
  {
   "cell_type": "code",
   "execution_count": null,
   "id": "424c56f3-c0fe-489c-b31f-2f5bca88b746",
   "metadata": {},
   "outputs": [],
   "source": []
  }
 ],
 "metadata": {
  "kernelspec": {
   "display_name": "Python 3 (ipykernel)",
   "language": "python",
   "name": "python3"
  },
  "language_info": {
   "codemirror_mode": {
    "name": "ipython",
    "version": 3
   },
   "file_extension": ".py",
   "mimetype": "text/x-python",
   "name": "python",
   "nbconvert_exporter": "python",
   "pygments_lexer": "ipython3",
   "version": "3.12.7"
  }
 },
 "nbformat": 4,
 "nbformat_minor": 5
}
