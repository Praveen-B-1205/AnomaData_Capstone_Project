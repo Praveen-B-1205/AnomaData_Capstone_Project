{
 "cells": [
  {
   "cell_type": "code",
   "execution_count": 2,
   "id": "6a0f3de4-0b8a-4d0f-9a51-17da081126e5",
   "metadata": {},
   "outputs": [
    {
     "name": "stdout",
     "output_type": "stream",
     "text": [
      "                 time  y        x1        x2        x3         x4        x5  \\\n",
      "0 1999-05-01 00:00:00  0  0.376665 -4.596435 -4.095756  13.497687 -0.118830   \n",
      "1 1999-05-01 00:02:00  0  0.475720 -4.542502 -4.018359  16.230659 -0.128733   \n",
      "2 1999-05-01 00:04:00  0  0.363848 -4.681394 -4.353147  14.127997 -0.138636   \n",
      "3 1999-05-01 00:06:00  0  0.301590 -4.758934 -4.023612  13.161566 -0.148142   \n",
      "4 1999-05-01 00:08:00  0  0.265578 -4.749928 -4.333150  15.267340 -0.155314   \n",
      "\n",
      "          x6        x7        x8  ...        x51        x52       x54  \\\n",
      "0 -20.669883  0.000732 -0.061114  ...  29.984624  10.091721 -4.936434   \n",
      "1 -18.758079  0.000732 -0.061114  ...  29.984624  10.095871 -4.937179   \n",
      "2 -17.836632  0.010803 -0.061114  ...  29.984624  10.100265 -4.937924   \n",
      "3 -18.517601  0.002075 -0.061114  ...  29.984624  10.104660 -4.938669   \n",
      "4 -17.505913  0.000732 -0.061114  ...  29.984624  10.109054 -4.939414   \n",
      "\n",
      "         x55        x56       x57       x58       x59       x60  y.1  \n",
      "0 -24.590146  18.515436  3.473400  0.033444  0.953219  0.006076    0  \n",
      "1 -32.413266  22.760065  2.682933  0.033536  1.090502  0.006083    0  \n",
      "2 -34.183774  27.004663  3.537487  0.033629  1.840540  0.006090    0  \n",
      "3 -35.954281  21.672449  3.986095  0.033721  2.554880  0.006097    0  \n",
      "4 -37.724789  21.907251  3.601573  0.033777  1.410494  0.006105    0  \n",
      "\n",
      "[5 rows x 62 columns]\n"
     ]
    }
   ],
   "source": [
    "import pandas as pd\n",
    "\n",
    "def load_data(file_path=\"data/AnomaData.xlsx\"):\n",
    "    \"\"\"Loads dataset and returns DataFrame\"\"\"\n",
    "    df = pd.read_excel(file_path, engine=\"openpyxl\")\n",
    "    return df\n",
    "\n",
    "if __name__ == \"__main__\":\n",
    "    df = load_data()\n",
    "    print(df.head())  # Test the function"
   ]
  },
  {
   "cell_type": "code",
   "execution_count": 3,
   "id": "3f0e44fb-f747-4a37-9c90-e2dc50961367",
   "metadata": {},
   "outputs": [
    {
     "name": "stderr",
     "output_type": "stream",
     "text": [
      "[NbConvertApp] Converting notebook data_loader.ipynb to script\n",
      "[NbConvertApp] Writing 407 bytes to data_loader.py\n"
     ]
    }
   ],
   "source": [
    "!jupyter nbconvert --to script \"data_loader.ipynb\""
   ]
  },
  {
   "cell_type": "code",
   "execution_count": null,
   "id": "230ce971-11ef-4c37-851a-aef7c6574247",
   "metadata": {},
   "outputs": [],
   "source": []
  }
 ],
 "metadata": {
  "kernelspec": {
   "display_name": "Python 3 (ipykernel)",
   "language": "python",
   "name": "python3"
  },
  "language_info": {
   "codemirror_mode": {
    "name": "ipython",
    "version": 3
   },
   "file_extension": ".py",
   "mimetype": "text/x-python",
   "name": "python",
   "nbconvert_exporter": "python",
   "pygments_lexer": "ipython3",
   "version": "3.12.7"
  }
 },
 "nbformat": 4,
 "nbformat_minor": 5
}
