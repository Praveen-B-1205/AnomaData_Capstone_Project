{
 "cells": [
  {
   "cell_type": "code",
   "execution_count": 2,
   "id": "17856992-effa-46b7-bd0a-20fcf7ee7900",
   "metadata": {},
   "outputs": [],
   "source": [
    "import pandas as pd"
   ]
  },
  {
   "cell_type": "code",
   "execution_count": 1,
   "id": "c41a26c1-9fd7-437a-ae1b-d3eee75c216f",
   "metadata": {},
   "outputs": [
    {
     "name": "stdout",
     "output_type": "stream",
     "text": [
      "Defaulting to user installation because normal site-packages is not writeable\n",
      "Requirement already satisfied: pandas in c:\\programdata\\anaconda3\\lib\\site-packages (2.2.2)\n",
      "Requirement already satisfied: openpyxl in c:\\programdata\\anaconda3\\lib\\site-packages (3.1.5)\n",
      "Requirement already satisfied: numpy>=1.26.0 in c:\\programdata\\anaconda3\\lib\\site-packages (from pandas) (1.26.4)\n",
      "Requirement already satisfied: python-dateutil>=2.8.2 in c:\\programdata\\anaconda3\\lib\\site-packages (from pandas) (2.9.0.post0)\n",
      "Requirement already satisfied: pytz>=2020.1 in c:\\programdata\\anaconda3\\lib\\site-packages (from pandas) (2024.1)\n",
      "Requirement already satisfied: tzdata>=2022.7 in c:\\programdata\\anaconda3\\lib\\site-packages (from pandas) (2023.3)\n",
      "Requirement already satisfied: et-xmlfile in c:\\programdata\\anaconda3\\lib\\site-packages (from openpyxl) (1.1.0)\n",
      "Requirement already satisfied: six>=1.5 in c:\\programdata\\anaconda3\\lib\\site-packages (from python-dateutil>=2.8.2->pandas) (1.16.0)\n",
      "Note: you may need to restart the kernel to use updated packages.\n"
     ]
    }
   ],
   "source": [
    "pip install pandas openpyxl"
   ]
  },
  {
   "cell_type": "code",
   "execution_count": 3,
   "id": "2d5e4c7c-ed29-4777-a129-85cd8b4eaae6",
   "metadata": {},
   "outputs": [],
   "source": [
    "# Load the dataset\n",
    "file_path = r\"D:\\Study Materials\\Project\\AnomaData_Capstone_Project\\data\\AnomaData.xlsx\"\n",
    "df = pd.read_excel(file_path)"
   ]
  },
  {
   "cell_type": "code",
   "execution_count": 4,
   "id": "cae46e68-8d0b-4d5c-a650-89b4394bc769",
   "metadata": {},
   "outputs": [
    {
     "name": "stdout",
     "output_type": "stream",
     "text": [
      "<class 'pandas.core.frame.DataFrame'>\n",
      "RangeIndex: 18398 entries, 0 to 18397\n",
      "Data columns (total 62 columns):\n",
      " #   Column  Non-Null Count  Dtype         \n",
      "---  ------  --------------  -----         \n",
      " 0   time    18398 non-null  datetime64[ns]\n",
      " 1   y       18398 non-null  int64         \n",
      " 2   x1      18398 non-null  float64       \n",
      " 3   x2      18398 non-null  float64       \n",
      " 4   x3      18398 non-null  float64       \n",
      " 5   x4      18398 non-null  float64       \n",
      " 6   x5      18398 non-null  float64       \n",
      " 7   x6      18398 non-null  float64       \n",
      " 8   x7      18398 non-null  float64       \n",
      " 9   x8      18398 non-null  float64       \n",
      " 10  x9      18398 non-null  float64       \n",
      " 11  x10     18398 non-null  float64       \n",
      " 12  x11     18398 non-null  float64       \n",
      " 13  x12     18398 non-null  float64       \n",
      " 14  x13     18398 non-null  float64       \n",
      " 15  x14     18398 non-null  float64       \n",
      " 16  x15     18398 non-null  float64       \n",
      " 17  x16     18398 non-null  float64       \n",
      " 18  x17     18398 non-null  float64       \n",
      " 19  x18     18398 non-null  float64       \n",
      " 20  x19     18398 non-null  float64       \n",
      " 21  x20     18398 non-null  float64       \n",
      " 22  x21     18398 non-null  float64       \n",
      " 23  x22     18398 non-null  float64       \n",
      " 24  x23     18398 non-null  float64       \n",
      " 25  x24     18398 non-null  float64       \n",
      " 26  x25     18398 non-null  float64       \n",
      " 27  x26     18398 non-null  float64       \n",
      " 28  x27     18398 non-null  float64       \n",
      " 29  x28     18398 non-null  int64         \n",
      " 30  x29     18398 non-null  float64       \n",
      " 31  x30     18398 non-null  float64       \n",
      " 32  x31     18398 non-null  float64       \n",
      " 33  x32     18398 non-null  float64       \n",
      " 34  x33     18398 non-null  float64       \n",
      " 35  x34     18398 non-null  float64       \n",
      " 36  x35     18398 non-null  float64       \n",
      " 37  x36     18398 non-null  float64       \n",
      " 38  x37     18398 non-null  float64       \n",
      " 39  x38     18398 non-null  float64       \n",
      " 40  x39     18398 non-null  float64       \n",
      " 41  x40     18398 non-null  float64       \n",
      " 42  x41     18398 non-null  float64       \n",
      " 43  x42     18398 non-null  float64       \n",
      " 44  x43     18398 non-null  float64       \n",
      " 45  x44     18398 non-null  float64       \n",
      " 46  x45     18398 non-null  float64       \n",
      " 47  x46     18398 non-null  float64       \n",
      " 48  x47     18398 non-null  float64       \n",
      " 49  x48     18398 non-null  float64       \n",
      " 50  x49     18398 non-null  float64       \n",
      " 51  x50     18398 non-null  float64       \n",
      " 52  x51     18398 non-null  float64       \n",
      " 53  x52     18398 non-null  float64       \n",
      " 54  x54     18398 non-null  float64       \n",
      " 55  x55     18398 non-null  float64       \n",
      " 56  x56     18398 non-null  float64       \n",
      " 57  x57     18398 non-null  float64       \n",
      " 58  x58     18398 non-null  float64       \n",
      " 59  x59     18398 non-null  float64       \n",
      " 60  x60     18398 non-null  float64       \n",
      " 61  y.1     18398 non-null  int64         \n",
      "dtypes: datetime64[ns](1), float64(58), int64(3)\n",
      "memory usage: 8.7 MB\n"
     ]
    },
    {
     "data": {
      "text/plain": [
       "(None,\n",
       "                  time  y        x1        x2        x3         x4        x5  \\\n",
       " 0 1999-05-01 00:00:00  0  0.376665 -4.596435 -4.095756  13.497687 -0.118830   \n",
       " 1 1999-05-01 00:02:00  0  0.475720 -4.542502 -4.018359  16.230659 -0.128733   \n",
       " 2 1999-05-01 00:04:00  0  0.363848 -4.681394 -4.353147  14.127997 -0.138636   \n",
       " 3 1999-05-01 00:06:00  0  0.301590 -4.758934 -4.023612  13.161566 -0.148142   \n",
       " 4 1999-05-01 00:08:00  0  0.265578 -4.749928 -4.333150  15.267340 -0.155314   \n",
       " \n",
       "           x6        x7        x8  ...        x51        x52       x54  \\\n",
       " 0 -20.669883  0.000732 -0.061114  ...  29.984624  10.091721 -4.936434   \n",
       " 1 -18.758079  0.000732 -0.061114  ...  29.984624  10.095871 -4.937179   \n",
       " 2 -17.836632  0.010803 -0.061114  ...  29.984624  10.100265 -4.937924   \n",
       " 3 -18.517601  0.002075 -0.061114  ...  29.984624  10.104660 -4.938669   \n",
       " 4 -17.505913  0.000732 -0.061114  ...  29.984624  10.109054 -4.939414   \n",
       " \n",
       "          x55        x56       x57       x58       x59       x60  y.1  \n",
       " 0 -24.590146  18.515436  3.473400  0.033444  0.953219  0.006076    0  \n",
       " 1 -32.413266  22.760065  2.682933  0.033536  1.090502  0.006083    0  \n",
       " 2 -34.183774  27.004663  3.537487  0.033629  1.840540  0.006090    0  \n",
       " 3 -35.954281  21.672449  3.986095  0.033721  2.554880  0.006097    0  \n",
       " 4 -37.724789  21.907251  3.601573  0.033777  1.410494  0.006105    0  \n",
       " \n",
       " [5 rows x 62 columns])"
      ]
     },
     "execution_count": 4,
     "metadata": {},
     "output_type": "execute_result"
    }
   ],
   "source": [
    "# Display basic information and first few rows\n",
    "df.info(), df.head()"
   ]
  },
  {
   "cell_type": "code",
   "execution_count": null,
   "id": "1179af40-c61c-4d67-8fb9-babcdddbdae3",
   "metadata": {},
   "outputs": [],
   "source": []
  }
 ],
 "metadata": {
  "kernelspec": {
   "display_name": "Python 3 (ipykernel)",
   "language": "python",
   "name": "python3"
  },
  "language_info": {
   "codemirror_mode": {
    "name": "ipython",
    "version": 3
   },
   "file_extension": ".py",
   "mimetype": "text/x-python",
   "name": "python",
   "nbconvert_exporter": "python",
   "pygments_lexer": "ipython3",
   "version": "3.12.7"
  }
 },
 "nbformat": 4,
 "nbformat_minor": 5
}
